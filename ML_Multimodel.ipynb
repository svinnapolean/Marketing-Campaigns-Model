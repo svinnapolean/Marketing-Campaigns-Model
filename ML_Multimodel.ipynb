{
 "cells": [
  {
   "cell_type": "code",
   "execution_count": 24,
   "id": "88434559-9df7-49fe-a730-214807de3a19",
   "metadata": {},
   "outputs": [],
   "source": [
    "import pandas as pd\n",
    "from sklearn.model_selection import train_test_split\n",
    "\n",
    "# Example: Load your cleaned data\n",
    "df = pd.read_csv('cleaned_marketing_data.csv')\n",
    "\n",
    "# Define features and target\n",
    "X = df.drop(['ID', 'Dt_Customer','Education','Marital_Status','Country','Age_Group'], axis=1)  # drop target and non-predictive IDs/dates\n",
    "y = df[['Education','Marital_Status','Country','Age_Group']]\n",
    "\n",
    "X_train, X_test, y_train, y_test = train_test_split(X, y, test_size=0.2, random_state=42)\n"
   ]
  },
  {
   "cell_type": "code",
   "execution_count": 37,
   "id": "6477fcbf-4194-4d1b-8fdf-684bd7d9a1f2",
   "metadata": {},
   "outputs": [
    {
     "name": "stdout",
     "output_type": "stream",
     "text": [
      "         ID  Year_Birth   Education Marital_Status   Income  Kidhome  \\\n",
      "2235  10142        1976         Phd       Divorced  66476.0        0   \n",
      "2236   5263        1977    2N Cycle        Married  31056.0        1   \n",
      "2237     22        1976  Graduation       Divorced  46310.0        1   \n",
      "2238    528        1978  Graduation        Married  65819.0        0   \n",
      "2239   4070        1969         Phd        Married  94871.0        0   \n",
      "\n",
      "      Teenhome Dt_Customer  Recency  MntWines  ...  Age  Total_Spending  \\\n",
      "2235         1  2013-03-07       99       372  ...   49           689.0   \n",
      "2236         0  2013-01-22       99         5  ...   48            55.0   \n",
      "2237         0  2012-12-03       99       185  ...   49           309.0   \n",
      "2238         0  2012-11-29       99       267  ...   47          1383.0   \n",
      "2239         2  2012-09-01       99       169  ...   56          1078.0   \n",
      "\n",
      "      Total_Purchases  Education_enc  Marital_Status_enc  Country_enc  \\\n",
      "2235               18            1.0                 0.0          2.0   \n",
      "2236                4            2.0                 2.0          0.0   \n",
      "2237               12            0.0                 0.0          0.0   \n",
      "2238               19            0.0                 2.0          5.0   \n",
      "2239               17            1.0                 2.0          1.0   \n",
      "\n",
      "      Age_Group  Has_Children  Online_Purchases  Store_Purchases  \n",
      "2235    Younger             1                 7               11  \n",
      "2236    Younger             1                 1                3  \n",
      "2237    Younger             1                 7                5  \n",
      "2238    Younger             0                 9               10  \n",
      "2239    Younger             1                13                4  \n",
      "\n",
      "[5 rows x 39 columns]\n"
     ]
    }
   ],
   "source": [
    "df.dtypes\n",
    "test_df = df.tail()\n",
    "print(test_df)\n",
    "test_df = test_df.drop(['ID', 'Dt_Customer','Education','Marital_Status','Country','Age_Group'], axis=1)\n"
   ]
  },
  {
   "cell_type": "code",
   "execution_count": 26,
   "id": "51ebcca1-721e-4f50-be3b-51f679791ca9",
   "metadata": {},
   "outputs": [
    {
     "name": "stdout",
     "output_type": "stream",
     "text": [
      "Saved: logistic_regression_Education_model.joblib\n",
      "Saved: random_forest_Education_model.joblib\n",
      "Saved: gradient_boosting_Education_model.joblib\n",
      "Saved: logistic_regression_Marital_Status_model.joblib\n",
      "Saved: random_forest_Marital_Status_model.joblib\n",
      "Saved: gradient_boosting_Marital_Status_model.joblib\n",
      "Saved: logistic_regression_Country_model.joblib\n",
      "Saved: random_forest_Country_model.joblib\n",
      "Saved: gradient_boosting_Country_model.joblib\n",
      "Saved: logistic_regression_Age_Group_model.joblib\n",
      "Saved: random_forest_Age_Group_model.joblib\n",
      "Saved: gradient_boosting_Age_Group_model.joblib\n"
     ]
    }
   ],
   "source": [
    "from sklearn.linear_model import LogisticRegression\n",
    "from sklearn.ensemble import RandomForestClassifier, GradientBoostingClassifier\n",
    "from sklearn.multioutput import MultiOutputClassifier\n",
    "from sklearn.preprocessing import StandardScaler\n",
    "from sklearn.pipeline import Pipeline\n",
    "import joblib\n",
    "\n",
    "models = {\n",
    "    'logistic_regression': Pipeline([\n",
    "        ('scaler', StandardScaler()),\n",
    "        ('clf', LogisticRegression(max_iter=2000, solver='lbfgs'))\n",
    "    ]),\n",
    "    'random_forest': RandomForestClassifier(n_estimators=100),\n",
    "    'gradient_boosting': GradientBoostingClassifier()\n",
    "}\n",
    "\n",
    "##model = MultiOutputClassifier(RandomForestClassifier())\n",
    "##model.fit(X_train, y_train)  # here y_train can be multi-column\n",
    "##joblib.dump(model, 'multi_ytrain_model.joblib')\n",
    "\n",
    "# Assume y_train is a DataFrame with multiple target columns\n",
    "target_columns = y_train.columns\n",
    "\n",
    "for target in target_columns:\n",
    "    for name, model in models.items():\n",
    "        model.fit(X_train, y_train[target])\n",
    "        filename = f\"{name}_{target}_model.joblib\"\n",
    "        joblib.dump(model, filename)\n",
    "        print(f\"Saved: {filename}\")"
   ]
  },
  {
   "cell_type": "code",
   "execution_count": 27,
   "id": "dea21494-d842-47a4-bd4d-3a9974059a76",
   "metadata": {},
   "outputs": [],
   "source": [
    "targets = ['Education', 'Marital_Status', 'Country', 'Age_Group']\n",
    "models = ['logistic_regression', 'random_forest', 'gradient_boosting']\n"
   ]
  },
  {
   "cell_type": "code",
   "execution_count": 36,
   "id": "f930822d-5938-44eb-8b37-1bb5683d0ca9",
   "metadata": {},
   "outputs": [
    {
     "name": "stdout",
     "output_type": "stream",
     "text": [
      "\n",
      "Predictions for: Education\n",
      "logistic_regression prediction (first 2): ['Phd' '2N Cycle']\n",
      "random_forest prediction (first 2): ['Phd' '2N Cycle']\n",
      "gradient_boosting prediction (first 2): ['Phd' '2N Cycle']\n",
      "\n",
      "Predictions for: Marital_Status\n",
      "logistic_regression prediction (first 2): ['Divorced' 'Married']\n",
      "random_forest prediction (first 2): ['Divorced' 'Married']\n",
      "gradient_boosting prediction (first 2): ['Divorced' 'Married']\n",
      "\n",
      "Predictions for: Country\n",
      "logistic_regression prediction (first 2): ['US' 'SP']\n",
      "random_forest prediction (first 2): ['US' 'SP']\n",
      "gradient_boosting prediction (first 2): ['US' 'SP']\n",
      "\n",
      "Predictions for: Age_Group\n",
      "logistic_regression prediction (first 2): ['Younger' 'Younger']\n",
      "random_forest prediction (first 2): ['Younger' 'Younger']\n",
      "gradient_boosting prediction (first 2): ['Younger' 'Younger']\n"
     ]
    }
   ],
   "source": [
    "from sklearn.exceptions import NotFittedError\n",
    "\n",
    "for target in targets:\n",
    "    print(f\"\\nPredictions for: {target}\")\n",
    "    for model_name in models:\n",
    "        file_name = f\"{model_name}_{target}_model.joblib\"\n",
    "        \n",
    "        try:\n",
    "            model = joblib.load(file_name)\n",
    "            prediction = model.predict(test_df)\n",
    "            print(f\"{model_name} prediction (first 2): {prediction[:2]}\")\n",
    "        except NotFittedError as e:\n",
    "            print(f\"Model not fitted: {file_name}\")\n",
    "        except Exception as e:\n",
    "            print(f\"Error loading/predicting {file_name}: {e}\")"
   ]
  },
  {
   "cell_type": "code",
   "execution_count": null,
   "id": "1e265f40-ff4c-42cf-96e0-62b70b872ffd",
   "metadata": {},
   "outputs": [],
   "source": []
  }
 ],
 "metadata": {
  "kernelspec": {
   "display_name": "Python 3 (ipykernel)",
   "language": "python",
   "name": "python3"
  },
  "language_info": {
   "codemirror_mode": {
    "name": "ipython",
    "version": 3
   },
   "file_extension": ".py",
   "mimetype": "text/x-python",
   "name": "python",
   "nbconvert_exporter": "python",
   "pygments_lexer": "ipython3",
   "version": "3.13.1"
  }
 },
 "nbformat": 4,
 "nbformat_minor": 5
}
